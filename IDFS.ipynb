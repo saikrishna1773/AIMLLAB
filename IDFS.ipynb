{
  "nbformat": 4,
  "nbformat_minor": 0,
  "metadata": {
    "colab": {
      "provenance": [],
      "authorship_tag": "ABX9TyP3Q8Z2fvmuVVPgV9B9q01Y",
      "include_colab_link": true
    },
    "kernelspec": {
      "name": "python3",
      "display_name": "Python 3"
    },
    "language_info": {
      "name": "python"
    }
  },
  "cells": [
    {
      "cell_type": "markdown",
      "metadata": {
        "id": "view-in-github",
        "colab_type": "text"
      },
      "source": [
        "<a href=\"https://colab.research.google.com/github/saikrishna1773/AIMLLAB/blob/main/IDFS.ipynb\" target=\"_parent\"><img src=\"https://colab.research.google.com/assets/colab-badge.svg\" alt=\"Open In Colab\"/></a>"
      ]
    },
    {
      "cell_type": "code",
      "execution_count": null,
      "metadata": {
        "id": "8toxMM2EkNbM"
      },
      "outputs": [],
      "source": [
        "from collections import defaultdict\n",
        "\n",
        "n = int(input(\"Enter No of Nodes:\"))\n",
        "e = int(input(\"Enter No of Edge:\"))\n",
        "\n",
        "graph = defaultdict(list)\n",
        "\n",
        "for i in range(e):\n",
        "    i,j = map(int,input().split())\n",
        "    graph[i].append(j)\n",
        "\n",
        "def dfs(v,goal,limit):\n",
        "    if v == goal:\n",
        "        return 1;\n",
        "\n",
        "    for i in graph[v]:\n",
        "        if limit-1 >= 0:\n",
        "            if dfs(i,goal,limit-1) !=  -1:\n",
        "                return 1\n",
        "    return -1\n",
        "\n",
        "\n",
        "goal = int(input(\"Enter Goal:\"))\n",
        "limit = int(input(\"Enter Limit:\"))\n",
        "\n",
        "res = dfs(0,goal,limit)\n",
        "\n",
        "if res == -1:\n",
        "    print(\"not found\")\n",
        "else:\n",
        "    print(\"found within depth limit\")"
      ]
    }
  ]
}