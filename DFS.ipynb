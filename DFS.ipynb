{
  "nbformat": 4,
  "nbformat_minor": 0,
  "metadata": {
    "colab": {
      "provenance": [],
      "authorship_tag": "ABX9TyP+Wv2P9gN4UBH6GndegHVQ",
      "include_colab_link": true
    },
    "kernelspec": {
      "name": "python3",
      "display_name": "Python 3"
    },
    "language_info": {
      "name": "python"
    }
  },
  "cells": [
    {
      "cell_type": "markdown",
      "metadata": {
        "id": "view-in-github",
        "colab_type": "text"
      },
      "source": [
        "<a href=\"https://colab.research.google.com/github/saikrishna1773/AIMLLAB/blob/main/DFS.ipynb\" target=\"_parent\"><img src=\"https://colab.research.google.com/assets/colab-badge.svg\" alt=\"Open In Colab\"/></a>"
      ]
    },
    {
      "cell_type": "code",
      "execution_count": 1,
      "metadata": {
        "colab": {
          "base_uri": "https://localhost:8080/"
        },
        "id": "E7co9Y3sgcN9",
        "outputId": "34ea360a-9a70-4571-c937-ab0093096d83"
      },
      "outputs": [
        {
          "output_type": "stream",
          "name": "stdout",
          "text": [
            "DFS Traversal is:- \n",
            "5 3 2 4 8 7 "
          ]
        }
      ],
      "source": [
        "graph={\n",
        "    '5':['3','7'],\n",
        "    '3':['2','4'],\n",
        "    '7':['8'],\n",
        "    '2':[],\n",
        "    '4':['8'],\n",
        "    '8':[]\n",
        "}\n",
        "visited=set()\n",
        "def dfs(visited,graph,node):\n",
        "    if node not in visited:\n",
        "        print(node,end=\" \")\n",
        "        visited.add(node)\n",
        "        for n in graph[node]:\n",
        "            dfs(visited,graph,n)\n",
        "\n",
        "print(\"DFS Traversal is:- \")\n",
        "dfs(visited,graph,'5')"
      ]
    }
  ]
}